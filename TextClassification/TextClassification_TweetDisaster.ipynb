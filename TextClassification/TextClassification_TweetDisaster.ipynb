{
 "cells": [
  {
   "cell_type": "markdown",
   "metadata": {},
   "source": [
    "# Import librairies"
   ]
  },
  {
   "cell_type": "code",
   "execution_count": 1,
   "metadata": {},
   "outputs": [
    {
     "name": "stderr",
     "output_type": "stream",
     "text": [
      "[nltk_data] Downloading package stopwords to\n",
      "[nltk_data]     C:\\Users\\JeremySCHNEIDER\\AppData\\Roaming\\nltk_data...\n",
      "[nltk_data]   Package stopwords is already up-to-date!\n"
     ]
    }
   ],
   "source": [
    "import pandas as pd\n",
    "import matplotlib.pyplot as plt\n",
    "import re\n",
    "import nltk\n",
    "nltk.download('stopwords')\n",
    "from nltk.corpus import stopwords\n",
    "from nltk.tokenize import RegexpTokenizer\n",
    "from nltk.tokenize import word_tokenize\n",
    "from sklearn.metrics import confusion_matrix, classification_report, accuracy_score\n",
    "from sklearn.ensemble import RandomForestClassifier\n",
    "from sklearn.feature_extraction.text import CountVectorizer, TfidfTransformer"
   ]
  },
  {
   "cell_type": "markdown",
   "metadata": {},
   "source": [
    "# Custom fonctions"
   ]
  },
  {
   "cell_type": "code",
   "execution_count": 2,
   "metadata": {},
   "outputs": [],
   "source": [
    "def preprocessBoW(data, max_features=1500, min_df=5, max_df=0.7):\n",
    "    '''This function preprocess data\n",
    "    And then transform it into a TF-IDF vector'''\n",
    "    \n",
    "    vectorizer = CountVectorizer(max_features,min_df, max_df)\n",
    "    documents = []\n",
    "    \n",
    "    for sen in range(len(data)):\n",
    "        #first we only kept standart letters\n",
    "        document = re.sub(r'\\W', ' ', str(data[sen]))\n",
    "        document = re.sub(r'\\s+[a-zA-Z]\\s+', ' ', document)\n",
    "        document = re.sub(r'\\^[a-zA-Z]\\s+', ' ', document)\n",
    "        document = re.sub(r'\\s+', ' ', document, flags=re.I)\n",
    "        document = re.sub(r'^b\\s+', '', document)\n",
    "        #Then we lower everything\n",
    "        document = document.lower()\n",
    "        #finaly we Tokenzie and remove stop words\n",
    "        tokens = word_tokenize(document)\n",
    "        filtered = [word for word in tokens if word not in stop_words]\n",
    "        documents.append(\" \".join(filtered))\n",
    "        \n",
    "    X = vectorizer.fit_transform(documents).toarray()\n",
    "    tfidconverter = TfidfTransformer()\n",
    "    X = tfidconverter.fit_transform(X).toarray()\n",
    "    return X\n",
    "\n",
    "def Fold8(data, text, target):\n",
    "    '''This function is used for cross validation of our training data'''\n",
    "    liste_score = []\n",
    "    data[\"fold\"] = data.index%8\n",
    "    for i in range(8):\n",
    "        print(\"This is the fold n° : {} \\n\".format(str(i)))\n",
    "        \n",
    "        X = preprocessBoW(data[text])\n",
    "        X_train = X[data[\"fold\"] != i]\n",
    "        X_test = X[data[\"fold\"] == i]\n",
    "\n",
    "        # création des targets\n",
    "        y_train = data[target].loc[data[\"fold\"] != i]\n",
    "        y_train = y_train.reset_index(drop=True)\n",
    "        y_test = data[target].loc[data[\"fold\"] == i]\n",
    "        y_test = y_test.reset_index(drop=True)\n",
    "\n",
    "        #entrainement\n",
    "        classifier = RandomForestClassifier(n_estimators = 100, random_state = 0, max_depth = 5, n_jobs = -1)\n",
    "        classifier.fit(X_train, y_train)\n",
    "\n",
    "        #prédiction\n",
    "        y_pred = classifier.predict(X_test)\n",
    "        print(confusion_matrix(y_test, y_pred))\n",
    "        print(classification_report(y_test, y_pred))\n",
    "        print(\"Accuracy : \" + str(accuracy_score(y_test, y_pred)))\n",
    "        liste_score.append(accuracy_score(y_test, y_pred))\n",
    "        print(\"---\")\n",
    "    mean_score = round(sum(liste_score)/float(len(liste_score)),2)\n",
    "    print(\"The mean score is: {}\".format(str(mean_score)))"
   ]
  },
  {
   "cell_type": "markdown",
   "metadata": {},
   "source": [
    "# Import data"
   ]
  },
  {
   "cell_type": "code",
   "execution_count": 3,
   "metadata": {},
   "outputs": [],
   "source": [
    "stop_words = set(stopwords.words('english'))\n",
    "df_train =pd.read_csv(\"data/disasterTweeter/train.csv\", sep=\",\")"
   ]
  },
  {
   "cell_type": "code",
   "execution_count": 4,
   "metadata": {},
   "outputs": [
    {
     "data": {
      "text/html": [
       "<div>\n",
       "<style scoped>\n",
       "    .dataframe tbody tr th:only-of-type {\n",
       "        vertical-align: middle;\n",
       "    }\n",
       "\n",
       "    .dataframe tbody tr th {\n",
       "        vertical-align: top;\n",
       "    }\n",
       "\n",
       "    .dataframe thead th {\n",
       "        text-align: right;\n",
       "    }\n",
       "</style>\n",
       "<table border=\"1\" class=\"dataframe\">\n",
       "  <thead>\n",
       "    <tr style=\"text-align: right;\">\n",
       "      <th></th>\n",
       "      <th>id</th>\n",
       "      <th>keyword</th>\n",
       "      <th>location</th>\n",
       "      <th>text</th>\n",
       "      <th>target</th>\n",
       "    </tr>\n",
       "  </thead>\n",
       "  <tbody>\n",
       "    <tr>\n",
       "      <th>0</th>\n",
       "      <td>1</td>\n",
       "      <td>NaN</td>\n",
       "      <td>NaN</td>\n",
       "      <td>Our Deeds are the Reason of this #earthquake M...</td>\n",
       "      <td>1</td>\n",
       "    </tr>\n",
       "    <tr>\n",
       "      <th>1</th>\n",
       "      <td>4</td>\n",
       "      <td>NaN</td>\n",
       "      <td>NaN</td>\n",
       "      <td>Forest fire near La Ronge Sask. Canada</td>\n",
       "      <td>1</td>\n",
       "    </tr>\n",
       "    <tr>\n",
       "      <th>2</th>\n",
       "      <td>5</td>\n",
       "      <td>NaN</td>\n",
       "      <td>NaN</td>\n",
       "      <td>All residents asked to 'shelter in place' are ...</td>\n",
       "      <td>1</td>\n",
       "    </tr>\n",
       "    <tr>\n",
       "      <th>3</th>\n",
       "      <td>6</td>\n",
       "      <td>NaN</td>\n",
       "      <td>NaN</td>\n",
       "      <td>13,000 people receive #wildfires evacuation or...</td>\n",
       "      <td>1</td>\n",
       "    </tr>\n",
       "    <tr>\n",
       "      <th>4</th>\n",
       "      <td>7</td>\n",
       "      <td>NaN</td>\n",
       "      <td>NaN</td>\n",
       "      <td>Just got sent this photo from Ruby #Alaska as ...</td>\n",
       "      <td>1</td>\n",
       "    </tr>\n",
       "  </tbody>\n",
       "</table>\n",
       "</div>"
      ],
      "text/plain": [
       "   id keyword location                                               text  \\\n",
       "0   1     NaN      NaN  Our Deeds are the Reason of this #earthquake M...   \n",
       "1   4     NaN      NaN             Forest fire near La Ronge Sask. Canada   \n",
       "2   5     NaN      NaN  All residents asked to 'shelter in place' are ...   \n",
       "3   6     NaN      NaN  13,000 people receive #wildfires evacuation or...   \n",
       "4   7     NaN      NaN  Just got sent this photo from Ruby #Alaska as ...   \n",
       "\n",
       "   target  \n",
       "0       1  \n",
       "1       1  \n",
       "2       1  \n",
       "3       1  \n",
       "4       1  "
      ]
     },
     "execution_count": 4,
     "metadata": {},
     "output_type": "execute_result"
    }
   ],
   "source": [
    "df_train.head()"
   ]
  },
  {
   "cell_type": "code",
   "execution_count": 5,
   "metadata": {},
   "outputs": [],
   "source": [
    "# We'll only use text and target, so I drop the rest\n",
    "df_train = df_train.drop([\"id\", \"keyword\", \"location\"], axis=1)"
   ]
  },
  {
   "cell_type": "code",
   "execution_count": 6,
   "metadata": {},
   "outputs": [
    {
     "data": {
      "image/png": "[encoded data removed]",
      "text/plain": [
       "<Figure size 432x288 with 1 Axes>"
      ]
     },
     "metadata": {
      "needs_background": "light"
     },
     "output_type": "display_data"
    },
    {
     "name": "stdout",
     "output_type": "stream",
     "text": [
      "There are 4342 fake disasters and 3271 real disasters\n"
     ]
    }
   ],
   "source": [
    "# Quick view of the repartition fo the target classes\n",
    "height = [len(df_train.loc[df_train[\"target\"] == 0]), len(df_train.loc[df_train[\"target\"] == 1])]\n",
    "label = ('Fake', 'Disaster')\n",
    "y_pos = [0,1]\n",
    "plt.bar(y_pos, height)\n",
    "plt.xticks(y_pos, label)\n",
    "plt.show()\n",
    "print(\"There are {} fake disasters and {} real disasters\".format(height[0], height[1]))"
   ]
  },
  {
   "cell_type": "markdown",
   "metadata": {},
   "source": [
    "# Testing"
   ]
  },
  {
   "cell_type": "code",
   "execution_count": 7,
   "metadata": {},
   "outputs": [
    {
     "name": "stdout",
     "output_type": "stream",
     "text": [
      "This is the fold n° : 0 \n",
      "\n"
     ]
    },
    {
     "name": "stderr",
     "output_type": "stream",
     "text": [
      "C:\\Users\\JeremySCHNEIDER\\Anaconda3\\lib\\site-packages\\sklearn\\utils\\validation.py:67: FutureWarning: Pass input=1500, encoding=5, decode_error=0.7 as keyword args. From version 0.25 passing these as positional arguments will result in an error\n",
      "  warnings.warn(\"Pass {} as keyword args. From version 0.25 \"\n"
     ]
    },
    {
     "name": "stdout",
     "output_type": "stream",
     "text": [
      "[[548   0]\n",
      " [364  40]]\n",
      "              precision    recall  f1-score   support\n",
      "\n",
      "           0       0.60      1.00      0.75       548\n",
      "           1       1.00      0.10      0.18       404\n",
      "\n",
      "    accuracy                           0.62       952\n",
      "   macro avg       0.80      0.55      0.47       952\n",
      "weighted avg       0.77      0.62      0.51       952\n",
      "\n",
      "Accuracy : 0.6176470588235294\n",
      "---\n",
      "This is the fold n° : 1 \n",
      "\n"
     ]
    },
    {
     "name": "stderr",
     "output_type": "stream",
     "text": [
      "C:\\Users\\JeremySCHNEIDER\\Anaconda3\\lib\\site-packages\\sklearn\\utils\\validation.py:67: FutureWarning: Pass input=1500, encoding=5, decode_error=0.7 as keyword args. From version 0.25 passing these as positional arguments will result in an error\n",
      "  warnings.warn(\"Pass {} as keyword args. From version 0.25 \"\n"
     ]
    },
    {
     "name": "stdout",
     "output_type": "stream",
     "text": [
      "[[543   0]\n",
      " [391  18]]\n",
      "              precision    recall  f1-score   support\n",
      "\n",
      "           0       0.58      1.00      0.74       543\n",
      "           1       1.00      0.04      0.08       409\n",
      "\n",
      "    accuracy                           0.59       952\n",
      "   macro avg       0.79      0.52      0.41       952\n",
      "weighted avg       0.76      0.59      0.46       952\n",
      "\n",
      "Accuracy : 0.5892857142857143\n",
      "---\n",
      "This is the fold n° : 2 \n",
      "\n"
     ]
    },
    {
     "name": "stderr",
     "output_type": "stream",
     "text": [
      "C:\\Users\\JeremySCHNEIDER\\Anaconda3\\lib\\site-packages\\sklearn\\utils\\validation.py:67: FutureWarning: Pass input=1500, encoding=5, decode_error=0.7 as keyword args. From version 0.25 passing these as positional arguments will result in an error\n",
      "  warnings.warn(\"Pass {} as keyword args. From version 0.25 \"\n"
     ]
    },
    {
     "name": "stdout",
     "output_type": "stream",
     "text": [
      "[[581   0]\n",
      " [341  30]]\n",
      "              precision    recall  f1-score   support\n",
      "\n",
      "           0       0.63      1.00      0.77       581\n",
      "           1       1.00      0.08      0.15       371\n",
      "\n",
      "    accuracy                           0.64       952\n",
      "   macro avg       0.82      0.54      0.46       952\n",
      "weighted avg       0.77      0.64      0.53       952\n",
      "\n",
      "Accuracy : 0.6418067226890757\n",
      "---\n",
      "This is the fold n° : 3 \n",
      "\n"
     ]
    },
    {
     "name": "stderr",
     "output_type": "stream",
     "text": [
      "C:\\Users\\JeremySCHNEIDER\\Anaconda3\\lib\\site-packages\\sklearn\\utils\\validation.py:67: FutureWarning: Pass input=1500, encoding=5, decode_error=0.7 as keyword args. From version 0.25 passing these as positional arguments will result in an error\n",
      "  warnings.warn(\"Pass {} as keyword args. From version 0.25 \"\n"
     ]
    },
    {
     "name": "stdout",
     "output_type": "stream",
     "text": [
      "[[530   0]\n",
      " [396  26]]\n",
      "              precision    recall  f1-score   support\n",
      "\n",
      "           0       0.57      1.00      0.73       530\n",
      "           1       1.00      0.06      0.12       422\n",
      "\n",
      "    accuracy                           0.58       952\n",
      "   macro avg       0.79      0.53      0.42       952\n",
      "weighted avg       0.76      0.58      0.46       952\n",
      "\n",
      "Accuracy : 0.5840336134453782\n",
      "---\n",
      "This is the fold n° : 4 \n",
      "\n"
     ]
    },
    {
     "name": "stderr",
     "output_type": "stream",
     "text": [
      "C:\\Users\\JeremySCHNEIDER\\Anaconda3\\lib\\site-packages\\sklearn\\utils\\validation.py:67: FutureWarning: Pass input=1500, encoding=5, decode_error=0.7 as keyword args. From version 0.25 passing these as positional arguments will result in an error\n",
      "  warnings.warn(\"Pass {} as keyword args. From version 0.25 \"\n"
     ]
    },
    {
     "name": "stdout",
     "output_type": "stream",
     "text": [
      "[[518   0]\n",
      " [406  28]]\n",
      "              precision    recall  f1-score   support\n",
      "\n",
      "           0       0.56      1.00      0.72       518\n",
      "           1       1.00      0.06      0.12       434\n",
      "\n",
      "    accuracy                           0.57       952\n",
      "   macro avg       0.78      0.53      0.42       952\n",
      "weighted avg       0.76      0.57      0.45       952\n",
      "\n",
      "Accuracy : 0.5735294117647058\n",
      "---\n",
      "This is the fold n° : 5 \n",
      "\n"
     ]
    },
    {
     "name": "stderr",
     "output_type": "stream",
     "text": [
      "C:\\Users\\JeremySCHNEIDER\\Anaconda3\\lib\\site-packages\\sklearn\\utils\\validation.py:67: FutureWarning: Pass input=1500, encoding=5, decode_error=0.7 as keyword args. From version 0.25 passing these as positional arguments will result in an error\n",
      "  warnings.warn(\"Pass {} as keyword args. From version 0.25 \"\n"
     ]
    },
    {
     "name": "stdout",
     "output_type": "stream",
     "text": [
      "[[535   0]\n",
      " [388  28]]\n",
      "              precision    recall  f1-score   support\n",
      "\n",
      "           0       0.58      1.00      0.73       535\n",
      "           1       1.00      0.07      0.13       416\n",
      "\n",
      "    accuracy                           0.59       951\n",
      "   macro avg       0.79      0.53      0.43       951\n",
      "weighted avg       0.76      0.59      0.47       951\n",
      "\n",
      "Accuracy : 0.5920084121976866\n",
      "---\n",
      "This is the fold n° : 6 \n",
      "\n"
     ]
    },
    {
     "name": "stderr",
     "output_type": "stream",
     "text": [
      "C:\\Users\\JeremySCHNEIDER\\Anaconda3\\lib\\site-packages\\sklearn\\utils\\validation.py:67: FutureWarning: Pass input=1500, encoding=5, decode_error=0.7 as keyword args. From version 0.25 passing these as positional arguments will result in an error\n",
      "  warnings.warn(\"Pass {} as keyword args. From version 0.25 \"\n"
     ]
    },
    {
     "name": "stdout",
     "output_type": "stream",
     "text": [
      "[[549   0]\n",
      " [374  28]]\n",
      "              precision    recall  f1-score   support\n",
      "\n",
      "           0       0.59      1.00      0.75       549\n",
      "           1       1.00      0.07      0.13       402\n",
      "\n",
      "    accuracy                           0.61       951\n",
      "   macro avg       0.80      0.53      0.44       951\n",
      "weighted avg       0.77      0.61      0.49       951\n",
      "\n",
      "Accuracy : 0.6067297581493165\n",
      "---\n",
      "This is the fold n° : 7 \n",
      "\n"
     ]
    },
    {
     "name": "stderr",
     "output_type": "stream",
     "text": [
      "C:\\Users\\JeremySCHNEIDER\\Anaconda3\\lib\\site-packages\\sklearn\\utils\\validation.py:67: FutureWarning: Pass input=1500, encoding=5, decode_error=0.7 as keyword args. From version 0.25 passing these as positional arguments will result in an error\n",
      "  warnings.warn(\"Pass {} as keyword args. From version 0.25 \"\n"
     ]
    },
    {
     "name": "stdout",
     "output_type": "stream",
     "text": [
      "[[538   0]\n",
      " [383  30]]\n",
      "              precision    recall  f1-score   support\n",
      "\n",
      "           0       0.58      1.00      0.74       538\n",
      "           1       1.00      0.07      0.14       413\n",
      "\n",
      "    accuracy                           0.60       951\n",
      "   macro avg       0.79      0.54      0.44       951\n",
      "weighted avg       0.76      0.60      0.48       951\n",
      "\n",
      "Accuracy : 0.5972660357518401\n",
      "---\n",
      "The mean score is: 0.6\n"
     ]
    }
   ],
   "source": [
    "Fold8(df_train, \"text\", \"target\")"
   ]
  },
  {
   "cell_type": "markdown",
   "metadata": {},
   "source": [
    "# Conclusion\n",
    "\n",
    "This method give an overall 60% of precision which is low."
   ]
  },
  {
   "cell_type": "code",
   "execution_count": null,
   "metadata": {},
   "outputs": [],
   "source": []
  }
 ],
 "metadata": {
  "kernelspec": {
   "display_name": "Python 3",
   "language": "python",
   "name": "python3"
  },
  "language_info": {
   "codemirror_mode": {
    "name": "ipython",
    "version": 3
   },
   "file_extension": ".py",
   "mimetype": "text/x-python",
   "name": "python",
   "nbconvert_exporter": "python",
   "pygments_lexer": "ipython3",
   "version": "3.8.5"
  }
 },
 "nbformat": 4,
 "nbformat_minor": 2
}
