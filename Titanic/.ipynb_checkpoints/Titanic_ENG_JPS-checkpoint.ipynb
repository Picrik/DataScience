{
 "cells": [
  {
   "cell_type": "markdown",
   "metadata": {},
   "source": [
    "# ADD REFERENCES"
   ]
  },
  {
   "cell_type": "markdown",
   "metadata": {},
   "source": [
    "# Titanic's data analysis and machine learning\n",
    "## By Jérémy P. Schneider\n",
    "\n",
    "As someone new in this field, I decided to take my first challenge with the Titanic dataset from Kaggle (https://www.kaggle.com/c/titanic)\n",
    "\n",
    "## My OS\n",
    "For this work I used a computer with :\n",
    "    * Windows 7\n",
    "    * Intel(R) Core(TM) i5-2500K CPU @ 3.30GHz\n",
    "    * 16 Go RAM (4 x 4 Go)\n",
    "    * NVIDIA GeForce GTX 1050 Ti\n",
    "\n",
    "This notebook will be split in different part :\n",
    "\n",
    "## [Setting our environnement :](#ENV)\n",
    "\n",
    "### [Libraries Import](#lib)\n",
    "### [Personnalized functions and tools](#func)\n",
    "### [Data import](#import)\n",
    "\n",
    "## [Data cleaning and analysis :](#CLEAN)\n",
    "### [Data analysis](#analysis)\n",
    "### [Handeling missing data](#MISSING)\n",
    "### [Converting all data in number](#convert)\n",
    "\n",
    "\n",
    "## [Test and train a model](#test_train)\n",
    "\n",
    "## [Conclusion and trial over the test sample](#conclusion)\n",
    "\n",
    "<a id=\"ENV\"></a>\n",
    "# Setting our environnement\n",
    "<a id=\"lib\"></a>\n",
    "## Libraries Import"
   ]
  },
  {
   "cell_type": "code",
   "execution_count": 1,
   "metadata": {},
   "outputs": [],
   "source": [
    "import time\n",
    "import pandas as pd\n",
    "import matplotlib.pyplot as plt\n",
    "import math\n",
    "import seaborn as sns\n",
    "import numpy as np\n",
    "from sklearn import svm\n",
    "from sklearn.neighbors import KNeighborsClassifier\n",
    "from sklearn.ensemble import RandomForestClassifier\n",
    "from sklearn.model_selection import train_test_split, GridSearchCV\n",
    "from sklearn.metrics import confusion_matrix\n",
    "# from sklearn.preprocessing import StandardScaler"
   ]
  },
  {
   "cell_type": "markdown",
   "metadata": {},
   "source": [
    "<a id=\"func\"></a>\n",
    "## Personalized functions and tools\n",
    "\n",
    "Since the Titanic dataset contains a name with a title, I used the idea of Ertuğrul Demir to create a dictionary to replace them (https://www.kaggle.com/datafan07/titanic-eda-and-several-modelling-approaches)"
   ]
  },
  {
   "cell_type": "code",
   "execution_count": 2,
   "metadata": {},
   "outputs": [],
   "source": [
    "dict_title = {\n",
    "    'Capt': 'Dr/Clerc/Mil',\n",
    "    'Col': 'Dr/Clerc/Mil',\n",
    "    'Major': 'Dr/Clerc/Mil',\n",
    "    'Jonkheer': 'Honor',\n",
    "    'Don': 'Honor',\n",
    "    'Dona': 'Honor',\n",
    "    'Sir': 'Honor',\n",
    "    'Dr': 'Dr/Clerc/Mil',\n",
    "    'Rev': 'Dr/Clerc/Mil',\n",
    "    'the Countess': 'Honor',\n",
    "    'Mme': 'Mrs',\n",
    "    'Mlle': 'Miss',\n",
    "    'Ms': 'Mrs',\n",
    "    'Mr': 'Mr',\n",
    "    'Mrs': 'Mrs',\n",
    "    'Miss': 'Miss',\n",
    "    'Master': 'Master',\n",
    "    'Lady': 'Honor'\n",
    "}\n",
    "\n",
    "def extractTitle(df, nameCol, dictTitle):\n",
    "    '''\n",
    "    extractTitle(df, nameCol, dictTitle)\n",
    "    Input : df : dataframe, will be copied.\n",
    "            nameCol : name of the columns where to extract titles.\n",
    "            dictTitle : dictionary of title and their conversion.\n",
    "    This fonction extract title from a specific column with a custom dict and remove nameCol.\n",
    "    '''\n",
    "    \n",
    "    df_new = df.copy()\n",
    "    df_new[\"Title\"] = \"\"\n",
    "    for row in range(df_new.shape[0]):\n",
    "        name = df_new.loc[row][nameCol]\n",
    "        for title in dictTitle:\n",
    "            if title in name:\n",
    "                df_new[\"Title\"][row] = dictTitle[title]\n",
    "    return df_new.drop([nameCol], axis=1)\n",
    "\n",
    "def getDummiesTitanic(df, dummies):\n",
    "    '''\n",
    "    getDummiesTitanic(df, dummies)\n",
    "    Input : df : dataframe, will be copied.\n",
    "            dummies : list of dummies to transform.\n",
    "            dictTitle : dictionary of title and their conversion\n",
    "    This fonction get dummies for a given list and drop the original column.\n",
    "    '''\n",
    "    df_new = df.copy()\n",
    "    for dummy in dummies:\n",
    "        try :\n",
    "            df_new = df_new.join(pd.get_dummies(df_new[dummy], prefix = dummy))\n",
    "            df_new = df_new.drop([dummy], axis=1)\n",
    "        except KeyError:\n",
    "            print(\"Warning : column {} is missing\".format(dummy))\n",
    "        \n",
    "    return df_new\n",
    "\n",
    "def drawConfusionMatrix(y_test, y_pred):\n",
    "    '''\n",
    "    drawConfusionMatrix(y_test, y_pred)\n",
    "    Input : y_test : list of real target.\n",
    "            y_pred : list of predicted target.\n",
    "\n",
    "    This fonction draw a confusion matrix from y_test and y_pred.\n",
    "    '''\n",
    "    cf_matrix = confusion_matrix(y_test, y_pred)\n",
    "    cm_sum = np.sum(cf_matrix, axis=1, keepdims=True)\n",
    "    cm_perc = cf_matrix / cm_sum.astype(float) * 100\n",
    "    annot = np.empty_like(cf_matrix).astype(str)\n",
    "    nrows, ncols = cf_matrix.shape\n",
    "    labels = [\"Died\", \"Survived\"]\n",
    "    sns.heatmap(cf_matrix/np.sum(cf_matrix), \n",
    "                xticklabels=labels, \n",
    "                yticklabels=labels, \n",
    "                annot=True)\n",
    "    plt.yticks(rotation=0)\n",
    "    plt.ylabel('Predicted values', rotation=0)\n",
    "    plt.xlabel('Actual values')\n",
    "    plt.show()"
   ]
  },
  {
   "cell_type": "markdown",
   "metadata": {},
   "source": [
    "<a id=\"import\"></a>\n",
    "## Data import"
   ]
  },
  {
   "cell_type": "code",
   "execution_count": 3,
   "metadata": {},
   "outputs": [],
   "source": [
    "df_train_org = pd.read_csv(\"data/train.csv\")\n",
    "df_test_org = pd.read_csv(\"data/test.csv\")"
   ]
  },
  {
   "cell_type": "markdown",
   "metadata": {},
   "source": [
    "<a id=\"CLEAN\"></a>\n",
    "# Data cleaning and analysis\n",
    "\n",
    "<a id=\"analysis\"></a>\n",
    "## Data analysis\n",
    "\n",
    "From Kaggle we know how the data is ordered and it define our goal :\n",
    "\n",
    "The data has been split into two groups:\n",
    "\n",
    "    training set (train.csv)\n",
    "    test set (test.csv)\n",
    "\n",
    "The training set should be used to build your machine learning models. For the training set, we provide the outcome (also known as the “ground truth”) for each passenger. Your model will be based on “features” like passengers’ gender and class. You can also use feature engineering to create new features.\n",
    "\n",
    "The test set should be used to see how well your model performs on unseen data. For the test set, we do not provide the ground truth for each passenger. It is your job to predict these outcomes. For each passenger in the test set, use the model you trained to predict whether or not they survived the sinking of the Titanic.\n",
    "\n",
    "We also include gender_submission.csv, a set of predictions that assume all and only female passengers survive, as an example of what a submission file should look like.\n",
    "\n",
    "### Data Dictionary\n",
    "\n",
    "|Variable\t    |Definition\t        |Key\n",
    "| ------------- |:-----------------:| -----:|\n",
    "|survival \t    |Survival \t        |0 = No, 1 = Yes\n",
    "|pclass \t    |Ticket class \t    |1 = 1st, 2 = 2nd, 3 = 3rd\n",
    "|sex \t        |Sex \t\n",
    "|Age \t        |Age in years \t\n",
    "|sibsp \t        |# of siblings / spouses aboard the Titanic \t\n",
    "|parch \t        |# of parents / children aboard the Titanic \t\n",
    "|ticket         |Ticket number \t\n",
    "|fare \t        |Passenger fare \t\n",
    "|cabin \t        |Cabin number \t\n",
    "|embarked \t    |Port of Embarkation|C = Cherbourg, Q = Queenstown, S = Southampton\n",
    "\n",
    "### Variable Notes\n",
    "\n",
    "pclass: A proxy for socio-economic status (SES)\n",
    "1st = Upper\n",
    "2nd = Middle\n",
    "3rd = Lower\n",
    "\n",
    "age: Age is fractional if less than 1. If the age is estimated, is it in the form of xx.5\n",
    "\n",
    "sibsp: The dataset defines family relations in this way...\n",
    "Sibling = brother, sister, stepbrother, stepsister\n",
    "Spouse = husband, wife (mistresses and fiancés were ignored)\n",
    "\n",
    "parch: The dataset defines family relations in this way...\n",
    "Parent = mother, father\n",
    "Child = daughter, son, stepdaughter, stepson\n",
    "Some children travelled only with a nanny, therefore parch=0 for them.\n",
    "\n",
    "If we watch how the data is in our ile, wa saw that the information is correct.\n",
    "\n",
    "* First the train data\n",
    "\n"
   ]
  },
  {
   "cell_type": "code",
   "execution_count": 4,
   "metadata": {},
   "outputs": [
    {
     "data": {
      "text/plain": [
       "PassengerId      int64\n",
       "Survived         int64\n",
       "Pclass           int64\n",
       "Name            object\n",
       "Sex             object\n",
       "Age            float64\n",
       "SibSp            int64\n",
       "Parch            int64\n",
       "Ticket          object\n",
       "Fare           float64\n",
       "Cabin           object\n",
       "Embarked        object\n",
       "dtype: object"
      ]
     },
     "execution_count": 4,
     "metadata": {},
     "output_type": "execute_result"
    }
   ],
   "source": [
    "df_train_org.dtypes"
   ]
  },
  {
   "cell_type": "code",
   "execution_count": 5,
   "metadata": {},
   "outputs": [
    {
     "name": "stdout",
     "output_type": "stream",
     "text": [
      "In the train data we have 891 rows and 12 columns\n"
     ]
    }
   ],
   "source": [
    "print(\"In the train data we have {} rows and {} columns\".format(df_train_org.shape[0], df_train_org.shape[1]))"
   ]
  },
  {
   "cell_type": "markdown",
   "metadata": {},
   "source": [
    "* Then the test data"
   ]
  },
  {
   "cell_type": "code",
   "execution_count": 6,
   "metadata": {},
   "outputs": [
    {
     "data": {
      "text/plain": [
       "PassengerId      int64\n",
       "Pclass           int64\n",
       "Name            object\n",
       "Sex             object\n",
       "Age            float64\n",
       "SibSp            int64\n",
       "Parch            int64\n",
       "Ticket          object\n",
       "Fare           float64\n",
       "Cabin           object\n",
       "Embarked        object\n",
       "dtype: object"
      ]
     },
     "execution_count": 6,
     "metadata": {},
     "output_type": "execute_result"
    }
   ],
   "source": [
    "df_test_org.dtypes"
   ]
  },
  {
   "cell_type": "code",
   "execution_count": 7,
   "metadata": {},
   "outputs": [
    {
     "name": "stdout",
     "output_type": "stream",
     "text": [
      "In the test data we have 418 rows and 11 columns\n"
     ]
    }
   ],
   "source": [
    "print(\"In the test data we have {} rows and {} columns\".format(df_test_org.shape[0], df_test_org.shape[1]))"
   ]
  },
  {
   "cell_type": "markdown",
   "metadata": {},
   "source": [
    "As we see the two set have the same topology :\n",
    "* int and float for numerical values.\n",
    "* object for text data.\n",
    "\n",
    "We'll need to transform the text data in numerical values in order to feed our machine learning model."
   ]
  },
  {
   "cell_type": "markdown",
   "metadata": {},
   "source": [
    "### Checking correlation\n",
    "\n",
    "We first remplace __Sex__ and __Embarked__ with numerical values based on the occurencies on the train data. \n",
    "\n",
    "Since we don't want to have biais we won't look too deep in the test data."
   ]
  },
  {
   "cell_type": "code",
   "execution_count": 8,
   "metadata": {},
   "outputs": [
    {
     "data": {
      "text/plain": [
       "male      577\n",
       "female    314\n",
       "Name: Sex, dtype: int64"
      ]
     },
     "execution_count": 8,
     "metadata": {},
     "output_type": "execute_result"
    }
   ],
   "source": [
    "df_train_org[\"Sex\"].value_counts()"
   ]
  },
  {
   "cell_type": "code",
   "execution_count": 9,
   "metadata": {},
   "outputs": [
    {
     "data": {
      "text/plain": [
       "S    644\n",
       "C    168\n",
       "Q     77\n",
       "Name: Embarked, dtype: int64"
      ]
     },
     "execution_count": 9,
     "metadata": {},
     "output_type": "execute_result"
    }
   ],
   "source": [
    "df_train_org[\"Embarked\"].value_counts()"
   ]
  },
  {
   "cell_type": "code",
   "execution_count": 10,
   "metadata": {},
   "outputs": [
    {
     "name": "stderr",
     "output_type": "stream",
     "text": [
      "C:\\ProgramData\\Anaconda3\\lib\\site-packages\\pandas\\core\\indexing.py:190: SettingWithCopyWarning: \n",
      "A value is trying to be set on a copy of a slice from a DataFrame\n",
      "\n",
      "See the caveats in the documentation: http://pandas.pydata.org/pandas-docs/stable/indexing.html#indexing-view-versus-copy\n",
      "  self._setitem_with_indexer(indexer, value)\n"
     ]
    }
   ],
   "source": [
    "df_train = df_train_org.copy()\n",
    "df_train = df_train.drop([\"PassengerId\", \"Ticket\"],axis=1) # Remove unique ID\n",
    "df_train[\"SexNum\"] = df_train[\"Sex\"]\n",
    "df_train[\"SexNum\"].loc[df_train[\"SexNum\"] == \"male\"] = 1\n",
    "df_train[\"SexNum\"].loc[df_train[\"SexNum\"] == \"female\"] = 0\n",
    "\n",
    "df_train[\"EmbarkedNum\"] = df_train[\"Embarked\"]\n",
    "df_train[\"EmbarkedNum\"] = df_train[\"EmbarkedNum\"].fillna(0)\n",
    "df_train[\"EmbarkedNum\"].loc[df_train[\"EmbarkedNum\"] == \"S\"] = 2\n",
    "df_train[\"EmbarkedNum\"].loc[df_train[\"EmbarkedNum\"] == \"C\"] = 1\n",
    "df_train[\"EmbarkedNum\"].loc[df_train[\"EmbarkedNum\"] == \"Q\"] = 0\n",
    "df_train[\"EmbarkedNum\"] = df_train[\"EmbarkedNum\"].astype(int)\n",
    "\n",
    "df_test= df_test_org.copy()\n",
    "df_test= df_test.drop([\"PassengerId\", \"Ticket\"],axis=1) # Remove unique ID\n",
    "df_test[\"SexNum\"] = df_test[\"Sex\"]\n",
    "df_test[\"SexNum\"].loc[df_test[\"SexNum\"] == \"male\"] = 1\n",
    "df_test[\"SexNum\"].loc[df_test[\"SexNum\"] == \"female\"] = 0\n",
    "\n",
    "df_test[\"EmbarkedNum\"] = df_test[\"Embarked\"]\n",
    "df_test[\"EmbarkedNum\"] = df_test[\"EmbarkedNum\"].fillna(0)\n",
    "df_test[\"EmbarkedNum\"].loc[df_test[\"EmbarkedNum\"] == \"S\"] = 2\n",
    "df_test[\"EmbarkedNum\"].loc[df_test[\"EmbarkedNum\"] == \"C\"] = 1\n",
    "df_test[\"EmbarkedNum\"].loc[df_test[\"EmbarkedNum\"] == \"Q\"] = 0\n",
    "df_test[\"EmbarkedNum\"] = df_test[\"EmbarkedNum\"].astype(int)"
   ]
  },
  {
   "cell_type": "markdown",
   "metadata": {},
   "source": [
    "Then we compute the correlation"
   ]
  },
  {
   "cell_type": "code",
   "execution_count": 11,
   "metadata": {},
   "outputs": [
    {
     "data": {
      "image/png": "[encoded data removed]",
      "text/plain": [
       "<Figure size 576x576 with 2 Axes>"
      ]
     },
     "metadata": {
      "needs_background": "light"
     },
     "output_type": "display_data"
    },
    {
     "name": "stdout",
     "output_type": "stream",
     "text": [
      "This graphic took me : 00:00:00\n"
     ]
    }
   ],
   "source": [
    "start_time = time.time()\n",
    "plt.figure(figsize=(8,8))\n",
    "sns.heatmap(df_train.corr(), annot=True, linewidths=.5, annot_kws={\"size\":10})\n",
    "plt.show()\n",
    "elapsed_time = time.time() - start_time\n",
    "print(\"This graphic took me : {}\".format(time.strftime(\"%H:%M:%S\", time.gmtime(elapsed_time))))"
   ]
  },
  {
   "cell_type": "markdown",
   "metadata": {},
   "source": [
    "We can se that we have :\n",
    "* a weak negative correclation between __PClass__ and __Survived__ : 1st class survived more.\n",
    "* a weak positive correlation between __Survived__ and __Fare__ : if you have more money you wuold have survived.\n",
    "* a weak negative correlation between __Survived__ and __SexNum__ : more women survived.\n",
    "* a weak negative correlation between __Pclass__ and __Fare__ : 1st class have more money than 3rd.\n",
    "* a weak positive correlation between __SibSp__ and __Parch__ : since it's the number of family onboard it's logical.\n",
    "\n",
    "<a id=\"MISSING\"></a>\n",
    "### Handeling missing data\n",
    "\n",
    "After checking the type of the data we use, we need to see where missing values are, to do so we can simply calculated them this way :"
   ]
  },
  {
   "cell_type": "code",
   "execution_count": 12,
   "metadata": {},
   "outputs": [
    {
     "data": {
      "text/plain": [
       "Survived       0.000000\n",
       "Pclass         0.000000\n",
       "Name           0.000000\n",
       "Sex            0.000000\n",
       "Age            0.198653\n",
       "SibSp          0.000000\n",
       "Parch          0.000000\n",
       "Fare           0.000000\n",
       "Cabin          0.771044\n",
       "Embarked       0.002245\n",
       "SexNum         0.000000\n",
       "EmbarkedNum    0.000000\n",
       "dtype: float64"
      ]
     },
     "execution_count": 12,
     "metadata": {},
     "output_type": "execute_result"
    }
   ],
   "source": [
    "df_train.isna().mean()"
   ]
  },
  {
   "cell_type": "code",
   "execution_count": 13,
   "metadata": {},
   "outputs": [
    {
     "data": {
      "text/plain": [
       "Pclass         0.000000\n",
       "Name           0.000000\n",
       "Sex            0.000000\n",
       "Age            0.205742\n",
       "SibSp          0.000000\n",
       "Parch          0.000000\n",
       "Fare           0.002392\n",
       "Cabin          0.782297\n",
       "Embarked       0.000000\n",
       "SexNum         0.000000\n",
       "EmbarkedNum    0.000000\n",
       "dtype: float64"
      ]
     },
     "execution_count": 13,
     "metadata": {},
     "output_type": "execute_result"
    }
   ],
   "source": [
    "df_test.isna().mean()"
   ]
  },
  {
   "cell_type": "markdown",
   "metadata": {},
   "source": [
    "From this step we know :\n",
    "* __Cabin__ information is missing in more than 75% of our data, so we'll not use it.\n",
    "* __Age__ information is missing at 20% of the time, we'll try to remplace the missing values\n",
    "* __Embarked__ information is missing several values in the trainset\n",
    "* __Fare__ information is missing serveral values in the testset"
   ]
  },
  {
   "cell_type": "markdown",
   "metadata": {},
   "source": [
    "We can use three method to take care of the missing data points\n",
    "* Remove columns"
   ]
  },
  {
   "cell_type": "code",
   "execution_count": 14,
   "metadata": {},
   "outputs": [],
   "source": [
    "df_train_remove = df_train.drop([\"Cabin\", \"Age\", \"Embarked\", \"Fare\"], axis=1)\n",
    "df_test_remove = df_test.drop([\"Cabin\", \"Age\", \"Embarked\", \"Fare\"], axis=1)"
   ]
  },
  {
   "cell_type": "markdown",
   "metadata": {},
   "source": [
    "* Compute MEAN for numerical, and most occurent for categorical\n",
    "\n",
    "For Embarked we take at look at the data"
   ]
  },
  {
   "cell_type": "code",
   "execution_count": 15,
   "metadata": {},
   "outputs": [
    {
     "data": {
      "text/plain": [
       "S    644\n",
       "C    168\n",
       "Q     77\n",
       "Name: Embarked, dtype: int64"
      ]
     },
     "execution_count": 15,
     "metadata": {},
     "output_type": "execute_result"
    }
   ],
   "source": [
    "df_train[\"Embarked\"].value_counts()"
   ]
  },
  {
   "cell_type": "code",
   "execution_count": 16,
   "metadata": {},
   "outputs": [
    {
     "name": "stdout",
     "output_type": "stream",
     "text": [
      "This calculations took me : 00:00:00\n"
     ]
    }
   ],
   "source": [
    "start_time = time.time()\n",
    "df_train_mean = df_train.drop([\"Cabin\"], axis=1).copy()\n",
    "df_train_mean[\"Age\"] = df_train_mean[\"Age\"].fillna(df_train_mean[\"Age\"].mean())\n",
    "df_train_mean[\"Embarked\"] = df_train_mean[\"Embarked\"].fillna(\"S\")\n",
    "df_test_mean = df_test.drop([\"Cabin\"], axis=1).copy()\n",
    "df_test_mean[\"Age\"] = df_test_mean[\"Age\"].fillna(df_test_mean[\"Age\"].mean())\n",
    "df_test_mean[\"Fare\"] = df_test_mean[\"Fare\"].fillna(df_test_mean[\"Fare\"].mean())\n",
    "elapsed_time = time.time() - start_time\n",
    "print(\"This calculations took me : {}\".format(time.strftime(\"%H:%M:%S\", time.gmtime(elapsed_time))))"
   ]
  },
  {
   "cell_type": "code",
   "execution_count": 17,
   "metadata": {},
   "outputs": [
    {
     "data": {
      "text/plain": [
       "Survived       0\n",
       "Pclass         0\n",
       "Name           0\n",
       "Sex            0\n",
       "Age            0\n",
       "SibSp          0\n",
       "Parch          0\n",
       "Fare           0\n",
       "Embarked       0\n",
       "SexNum         0\n",
       "EmbarkedNum    0\n",
       "dtype: int64"
      ]
     },
     "execution_count": 17,
     "metadata": {},
     "output_type": "execute_result"
    }
   ],
   "source": [
    "df_train_mean.isna().sum()"
   ]
  },
  {
   "cell_type": "markdown",
   "metadata": {},
   "source": [
    "* Compute MEDIAN for numerical and most occurent for categorical"
   ]
  },
  {
   "cell_type": "code",
   "execution_count": 18,
   "metadata": {},
   "outputs": [],
   "source": [
    "df_train_median = df_train.drop([\"Cabin\"], axis=1).copy()\n",
    "df_train_median[\"Age\"] = df_train_median[\"Age\"].fillna(df_train_median[\"Age\"].median())\n",
    "df_train_median[\"Embarked\"] = df_train_median[\"Embarked\"].fillna(\"S\")\n",
    "df_test_median = df_test.drop([\"Cabin\"], axis=1).copy()\n",
    "df_test_median[\"Age\"] = df_test_median[\"Age\"].fillna(df_test_median[\"Age\"].median())\n",
    "df_test_median[\"Fare\"] = df_test_median[\"Fare\"].fillna(df_test_median[\"Fare\"].median())"
   ]
  },
  {
   "cell_type": "markdown",
   "metadata": {},
   "source": [
    "<a id=\"convert\"></a>\n",
    "### Converting all data in number\n",
    "\n",
    "We'll first take care of the name column. We'll extract the title from the names. (REF)\n",
    "\n",
    "The steps are :\n",
    "* Create a new column\n",
    "* Read each names\n",
    "* Check if any title exist in the name\n",
    "* Add the title in the new column\n",
    "\n",
    "We'll need to do it on all our datasets, so we can use the fonction defined before."
   ]
  },
  {
   "cell_type": "code",
   "execution_count": 19,
   "metadata": {},
   "outputs": [
    {
     "name": "stderr",
     "output_type": "stream",
     "text": [
      "C:\\ProgramData\\Anaconda3\\lib\\site-packages\\ipykernel_launcher.py:37: SettingWithCopyWarning: \n",
      "A value is trying to be set on a copy of a slice from a DataFrame\n",
      "\n",
      "See the caveats in the documentation: http://pandas.pydata.org/pandas-docs/stable/indexing.html#indexing-view-versus-copy\n"
     ]
    },
    {
     "name": "stdout",
     "output_type": "stream",
     "text": [
      "This calculations took me : 00:02:28\n"
     ]
    }
   ],
   "source": [
    "start_time = time.time()\n",
    "df_train_remove = extractTitle(df_train_remove, \"Name\", dict_title)\n",
    "df_test_remove = extractTitle(df_test_remove, \"Name\", dict_title)\n",
    "df_train_mean = extractTitle(df_train_mean, \"Name\", dict_title)\n",
    "df_test_mean = extractTitle(df_test_mean, \"Name\", dict_title)\n",
    "df_train_median = extractTitle(df_train_median, \"Name\", dict_title)\n",
    "df_test_median = extractTitle(df_test_median, \"Name\", dict_title)\n",
    "elapsed_time = time.time() - start_time\n",
    "print(\"This calculations took me : {}\".format(time.strftime(\"%H:%M:%S\", time.gmtime(elapsed_time))))"
   ]
  },
  {
   "cell_type": "markdown",
   "metadata": {},
   "source": [
    "One of the most current way to deal with categorical data is to [get dummies](https://towardsdatascience.com/the-dummys-guide-to-creating-dummy-variables-f21faddb1d40)"
   ]
  },
  {
   "cell_type": "code",
   "execution_count": 20,
   "metadata": {},
   "outputs": [
    {
     "data": {
      "text/html": [
       "<div>\n",
       "<style scoped>\n",
       "    .dataframe tbody tr th:only-of-type {\n",
       "        vertical-align: middle;\n",
       "    }\n",
       "\n",
       "    .dataframe tbody tr th {\n",
       "        vertical-align: top;\n",
       "    }\n",
       "\n",
       "    .dataframe thead th {\n",
       "        text-align: right;\n",
       "    }\n",
       "</style>\n",
       "<table border=\"1\" class=\"dataframe\">\n",
       "  <thead>\n",
       "    <tr style=\"text-align: right;\">\n",
       "      <th></th>\n",
       "      <th>Survived</th>\n",
       "      <th>Pclass</th>\n",
       "      <th>Sex</th>\n",
       "      <th>SibSp</th>\n",
       "      <th>Parch</th>\n",
       "      <th>SexNum</th>\n",
       "      <th>EmbarkedNum</th>\n",
       "      <th>Title</th>\n",
       "    </tr>\n",
       "  </thead>\n",
       "  <tbody>\n",
       "    <tr>\n",
       "      <th>0</th>\n",
       "      <td>0</td>\n",
       "      <td>3</td>\n",
       "      <td>male</td>\n",
       "      <td>1</td>\n",
       "      <td>0</td>\n",
       "      <td>1</td>\n",
       "      <td>2</td>\n",
       "      <td>Mr</td>\n",
       "    </tr>\n",
       "    <tr>\n",
       "      <th>1</th>\n",
       "      <td>1</td>\n",
       "      <td>1</td>\n",
       "      <td>female</td>\n",
       "      <td>1</td>\n",
       "      <td>0</td>\n",
       "      <td>0</td>\n",
       "      <td>1</td>\n",
       "      <td>Mrs</td>\n",
       "    </tr>\n",
       "    <tr>\n",
       "      <th>2</th>\n",
       "      <td>1</td>\n",
       "      <td>3</td>\n",
       "      <td>female</td>\n",
       "      <td>0</td>\n",
       "      <td>0</td>\n",
       "      <td>0</td>\n",
       "      <td>2</td>\n",
       "      <td>Miss</td>\n",
       "    </tr>\n",
       "    <tr>\n",
       "      <th>3</th>\n",
       "      <td>1</td>\n",
       "      <td>1</td>\n",
       "      <td>female</td>\n",
       "      <td>1</td>\n",
       "      <td>0</td>\n",
       "      <td>0</td>\n",
       "      <td>2</td>\n",
       "      <td>Mrs</td>\n",
       "    </tr>\n",
       "    <tr>\n",
       "      <th>4</th>\n",
       "      <td>0</td>\n",
       "      <td>3</td>\n",
       "      <td>male</td>\n",
       "      <td>0</td>\n",
       "      <td>0</td>\n",
       "      <td>1</td>\n",
       "      <td>2</td>\n",
       "      <td>Mr</td>\n",
       "    </tr>\n",
       "  </tbody>\n",
       "</table>\n",
       "</div>"
      ],
      "text/plain": [
       "   Survived  Pclass     Sex  SibSp  Parch  SexNum  EmbarkedNum Title\n",
       "0         0       3    male      1      0       1            2    Mr\n",
       "1         1       1  female      1      0       0            1   Mrs\n",
       "2         1       3  female      0      0       0            2  Miss\n",
       "3         1       1  female      1      0       0            2   Mrs\n",
       "4         0       3    male      0      0       1            2    Mr"
      ]
     },
     "execution_count": 20,
     "metadata": {},
     "output_type": "execute_result"
    }
   ],
   "source": [
    "df_train_remove.head()"
   ]
  },
  {
   "cell_type": "code",
   "execution_count": 21,
   "metadata": {},
   "outputs": [
    {
     "name": "stdout",
     "output_type": "stream",
     "text": [
      "Warning : column Embarked is missing\n",
      "Warning : column Embarked is missing\n",
      "This calculations took me : 00:00:00\n"
     ]
    }
   ],
   "source": [
    "start_time = time.time()\n",
    "list_dummies = [\"Sex\", \"Embarked\", \"Title\"]\n",
    "\n",
    "df_train_remove = getDummiesTitanic(df_train_remove, list_dummies)\n",
    "df_test_remove = getDummiesTitanic(df_test_remove, list_dummies)\n",
    "df_train_mean = getDummiesTitanic(df_train_mean, list_dummies)\n",
    "df_test_mean = getDummiesTitanic(df_test_mean, list_dummies)\n",
    "df_train_median = getDummiesTitanic(df_train_median, list_dummies)\n",
    "df_test_median = getDummiesTitanic(df_test_median, list_dummies)\n",
    "elapsed_time = time.time() - start_time\n",
    "print(\"This calculations took me : {}\".format(time.strftime(\"%H:%M:%S\", time.gmtime(elapsed_time))))"
   ]
  },
  {
   "cell_type": "code",
   "execution_count": 22,
   "metadata": {},
   "outputs": [
    {
     "data": {
      "text/html": [
       "<div>\n",
       "<style scoped>\n",
       "    .dataframe tbody tr th:only-of-type {\n",
       "        vertical-align: middle;\n",
       "    }\n",
       "\n",
       "    .dataframe tbody tr th {\n",
       "        vertical-align: top;\n",
       "    }\n",
       "\n",
       "    .dataframe thead th {\n",
       "        text-align: right;\n",
       "    }\n",
       "</style>\n",
       "<table border=\"1\" class=\"dataframe\">\n",
       "  <thead>\n",
       "    <tr style=\"text-align: right;\">\n",
       "      <th></th>\n",
       "      <th>Survived</th>\n",
       "      <th>Pclass</th>\n",
       "      <th>SibSp</th>\n",
       "      <th>Parch</th>\n",
       "      <th>SexNum</th>\n",
       "      <th>EmbarkedNum</th>\n",
       "      <th>Sex_female</th>\n",
       "      <th>Sex_male</th>\n",
       "      <th>Title_Dr/Clerc/Mil</th>\n",
       "      <th>Title_Honor</th>\n",
       "      <th>Title_Master</th>\n",
       "      <th>Title_Miss</th>\n",
       "      <th>Title_Mr</th>\n",
       "      <th>Title_Mrs</th>\n",
       "    </tr>\n",
       "  </thead>\n",
       "  <tbody>\n",
       "    <tr>\n",
       "      <th>0</th>\n",
       "      <td>0</td>\n",
       "      <td>3</td>\n",
       "      <td>1</td>\n",
       "      <td>0</td>\n",
       "      <td>1</td>\n",
       "      <td>2</td>\n",
       "      <td>0</td>\n",
       "      <td>1</td>\n",
       "      <td>0</td>\n",
       "      <td>0</td>\n",
       "      <td>0</td>\n",
       "      <td>0</td>\n",
       "      <td>1</td>\n",
       "      <td>0</td>\n",
       "    </tr>\n",
       "    <tr>\n",
       "      <th>1</th>\n",
       "      <td>1</td>\n",
       "      <td>1</td>\n",
       "      <td>1</td>\n",
       "      <td>0</td>\n",
       "      <td>0</td>\n",
       "      <td>1</td>\n",
       "      <td>1</td>\n",
       "      <td>0</td>\n",
       "      <td>0</td>\n",
       "      <td>0</td>\n",
       "      <td>0</td>\n",
       "      <td>0</td>\n",
       "      <td>0</td>\n",
       "      <td>1</td>\n",
       "    </tr>\n",
       "    <tr>\n",
       "      <th>2</th>\n",
       "      <td>1</td>\n",
       "      <td>3</td>\n",
       "      <td>0</td>\n",
       "      <td>0</td>\n",
       "      <td>0</td>\n",
       "      <td>2</td>\n",
       "      <td>1</td>\n",
       "      <td>0</td>\n",
       "      <td>0</td>\n",
       "      <td>0</td>\n",
       "      <td>0</td>\n",
       "      <td>1</td>\n",
       "      <td>0</td>\n",
       "      <td>0</td>\n",
       "    </tr>\n",
       "    <tr>\n",
       "      <th>3</th>\n",
       "      <td>1</td>\n",
       "      <td>1</td>\n",
       "      <td>1</td>\n",
       "      <td>0</td>\n",
       "      <td>0</td>\n",
       "      <td>2</td>\n",
       "      <td>1</td>\n",
       "      <td>0</td>\n",
       "      <td>0</td>\n",
       "      <td>0</td>\n",
       "      <td>0</td>\n",
       "      <td>0</td>\n",
       "      <td>0</td>\n",
       "      <td>1</td>\n",
       "    </tr>\n",
       "    <tr>\n",
       "      <th>4</th>\n",
       "      <td>0</td>\n",
       "      <td>3</td>\n",
       "      <td>0</td>\n",
       "      <td>0</td>\n",
       "      <td>1</td>\n",
       "      <td>2</td>\n",
       "      <td>0</td>\n",
       "      <td>1</td>\n",
       "      <td>0</td>\n",
       "      <td>0</td>\n",
       "      <td>0</td>\n",
       "      <td>0</td>\n",
       "      <td>1</td>\n",
       "      <td>0</td>\n",
       "    </tr>\n",
       "  </tbody>\n",
       "</table>\n",
       "</div>"
      ],
      "text/plain": [
       "   Survived  Pclass  SibSp  Parch  SexNum  EmbarkedNum  Sex_female  Sex_male  \\\n",
       "0         0       3      1      0       1            2           0         1   \n",
       "1         1       1      1      0       0            1           1         0   \n",
       "2         1       3      0      0       0            2           1         0   \n",
       "3         1       1      1      0       0            2           1         0   \n",
       "4         0       3      0      0       1            2           0         1   \n",
       "\n",
       "   Title_Dr/Clerc/Mil  Title_Honor  Title_Master  Title_Miss  Title_Mr  \\\n",
       "0                   0            0             0           0         1   \n",
       "1                   0            0             0           0         0   \n",
       "2                   0            0             0           1         0   \n",
       "3                   0            0             0           0         0   \n",
       "4                   0            0             0           0         1   \n",
       "\n",
       "   Title_Mrs  \n",
       "0          0  \n",
       "1          1  \n",
       "2          0  \n",
       "3          1  \n",
       "4          0  "
      ]
     },
     "execution_count": 22,
     "metadata": {},
     "output_type": "execute_result"
    }
   ],
   "source": [
    "df_train_remove.head()"
   ]
  },
  {
   "cell_type": "markdown",
   "metadata": {},
   "source": [
    "<a id=\"test_train\"></a>\n",
    "## Test and train a model\n",
    "\n",
    "First we need to split the datasets in train and test. The mesure the preformance of our models.\n",
    "\n",
    "We also create a dict to record all the scores."
   ]
  },
  {
   "cell_type": "code",
   "execution_count": 28,
   "metadata": {},
   "outputs": [],
   "source": [
    "X_train_remove, X_test_remove, y_train_remove, y_test_remove = train_test_split(df_train_remove.drop([\"Survived\"], axis=1), \n",
    "                                                               df_train_remove[\"Survived\"], \n",
    "                                                               test_size=0.2,\n",
    "                                                               random_state=0)\n",
    "\n",
    "X_train_mean, X_test_mean, y_train_mean, y_test_mean = train_test_split(df_train_mean.drop([\"Survived\"], axis=1), \n",
    "                                                       df_train_mean[\"Survived\"], \n",
    "                                                       test_size=0.2,\n",
    "                                                       random_state=0)\n",
    "X_train_median, X_test_median, y_train_median, y_test_median = train_test_split(df_train_median.drop([\"Survived\"], axis=1), \n",
    "                                                               df_train_median[\"Survived\"], \n",
    "                                                               test_size=0.2,\n",
    "                                                               random_state=0)\n",
    "\n",
    "\n",
    "SCORES = {\"Remove\":{},\"Mean\":{},\"Median\":{}}"
   ]
  },
  {
   "cell_type": "markdown",
   "metadata": {},
   "source": [
    "### With the SVM (Support Vector Machines [see documentation](https://scikit-learn.org/stable/modules/svm.html)) :\n",
    "\n",
    "* If we use the df_train_remove :"
   ]
  },
  {
   "cell_type": "code",
   "execution_count": 29,
   "metadata": {},
   "outputs": [
    {
     "data": {
      "image/png": "[encoded data removed]",
      "text/plain": [
       "<Figure size 432x288 with 2 Axes>"
      ]
     },
     "metadata": {
      "needs_background": "light"
     },
     "output_type": "display_data"
    },
    {
     "name": "stdout",
     "output_type": "stream",
     "text": [
      "Perfomace is : 81.01% for SVM_Remove\n",
      "This calculations took me : 00:00:00\n"
     ]
    }
   ],
   "source": [
    "start_time = time.time()\n",
    "clf = svm.SVC(kernel='linear', C = 1.0) #Check other models\n",
    "clf.fit(X_train_remove, y_train_remove)\n",
    "y_pred_remove = clf.predict(X_test_remove)\n",
    "\n",
    "drawConfusionMatrix(y_test_remove, y_pred_remove)\n",
    "\n",
    "score = (((y_pred_remove == y_test_remove).sum())/y_test_remove.shape[0])\n",
    "score = round(score*100,2)\n",
    "SCORES[\"Remove\"][\"SVM\"] = score\n",
    "print(\"Perfomace is : {}% for SVM_Remove\".format(score))\n",
    "elapsed_time = time.time() - start_time\n",
    "print(\"This calculations took me : {}\".format(time.strftime(\"%H:%M:%S\", time.gmtime(elapsed_time))))"
   ]
  },
  {
   "cell_type": "markdown",
   "metadata": {},
   "source": [
    "* If we use the df_train_mean"
   ]
  },
  {
   "cell_type": "code",
   "execution_count": 30,
   "metadata": {},
   "outputs": [
    {
     "data": {
      "image/png": "[encoded data removed]",
      "text/plain": [
       "<Figure size 432x288 with 2 Axes>"
      ]
     },
     "metadata": {
      "needs_background": "light"
     },
     "output_type": "display_data"
    },
    {
     "name": "stdout",
     "output_type": "stream",
     "text": [
      "Perfomace is : 80.45% for SVM_Mean\n",
      "This calculations took me : 00:00:05\n"
     ]
    }
   ],
   "source": [
    "start_time = time.time()\n",
    "clf.fit(X_train_mean, y_train_mean)\n",
    "y_pred_mean = clf.predict(X_test_mean)\n",
    "\n",
    "drawConfusionMatrix(y_test_mean, y_pred_mean)\n",
    "\n",
    "score = (((y_pred_mean == y_test_mean).sum())/y_test_mean.shape[0])\n",
    "score = round(score*100,2)\n",
    "SCORES[\"Mean\"][\"SVM\"] = score\n",
    "print(\"Perfomace is : {}% for SVM_Mean\".format(score))\n",
    "elapsed_time = time.time() - start_time\n",
    "print(\"This calculations took me : {}\".format(time.strftime(\"%H:%M:%S\", time.gmtime(elapsed_time))))"
   ]
  },
  {
   "cell_type": "markdown",
   "metadata": {},
   "source": [
    "* If we use the df_train_median"
   ]
  },
  {
   "cell_type": "code",
   "execution_count": 31,
   "metadata": {},
   "outputs": [
    {
     "data": {
      "image/png": "[encoded data removed]",
      "text/plain": [
       "<Figure size 432x288 with 2 Axes>"
      ]
     },
     "metadata": {
      "needs_background": "light"
     },
     "output_type": "display_data"
    },
    {
     "name": "stdout",
     "output_type": "stream",
     "text": [
      "Perfomace is : 80.45% for SVM_Median\n",
      "This calculations took me : 00:00:03\n"
     ]
    }
   ],
   "source": [
    "start_time = time.time()\n",
    "clf.fit(X_train_median, y_train_median)\n",
    "y_pred_median = clf.predict(X_test_median)\n",
    "\n",
    "drawConfusionMatrix(y_test_median, y_pred_median)\n",
    "\n",
    "score = (((y_pred_median == y_test_median).sum())/y_test_median.shape[0])\n",
    "score = round(score*100,2)\n",
    "SCORES[\"Median\"][\"SVM\"] = score\n",
    "print(\"Perfomace is : {}% for SVM_Median\".format(score))\n",
    "elapsed_time = time.time() - start_time\n",
    "print(\"This calculations took me : {}\".format(time.strftime(\"%H:%M:%S\", time.gmtime(elapsed_time))))"
   ]
  },
  {
   "cell_type": "code",
   "execution_count": 32,
   "metadata": {},
   "outputs": [
    {
     "data": {
      "text/plain": [
       "{'Remove': {'SVM': 81.01}, 'Mean': {'SVM': 80.45}, 'Median': {'SVM': 80.45}}"
      ]
     },
     "execution_count": 32,
     "metadata": {},
     "output_type": "execute_result"
    }
   ],
   "source": [
    "SCORES"
   ]
  },
  {
   "cell_type": "markdown",
   "metadata": {},
   "source": [
    "## GridSearch to optimized Hyperparameters [see documentation](https://scikit-learn.org/stable/modules/generated/sklearn.model_selection.GridSearchCV.html)\n",
    "The results with basic parameters for SVM are not bad, but we can find better hyperparameters with GridSearch."
   ]
  },
  {
   "cell_type": "code",
   "execution_count": 33,
   "metadata": {},
   "outputs": [
    {
     "name": "stdout",
     "output_type": "stream",
     "text": [
      "Fitting 5 folds for each of 305 candidates, totalling 1525 fits\n"
     ]
    },
    {
     "name": "stderr",
     "output_type": "stream",
     "text": [
      "[Parallel(n_jobs=-1)]: Using backend LokyBackend with 4 concurrent workers.\n",
      "[Parallel(n_jobs=-1)]: Done  24 tasks      | elapsed:    4.3s\n",
      "[Parallel(n_jobs=-1)]: Done 698 tasks      | elapsed:   16.7s\n",
      "[Parallel(n_jobs=-1)]: Done 1234 tasks      | elapsed:   51.9s\n"
     ]
    },
    {
     "name": "stdout",
     "output_type": "stream",
     "text": [
      "The best parameters are : {'C': 1, 'gamma': 0.1, 'kernel': 'rbf'} with removed features and the score is 0.8314606741573034\n"
     ]
    },
    {
     "name": "stderr",
     "output_type": "stream",
     "text": [
      "[Parallel(n_jobs=-1)]: Done 1525 out of 1525 | elapsed:  1.6min finished\n",
      "C:\\ProgramData\\Anaconda3\\lib\\site-packages\\sklearn\\model_selection\\_search.py:841: DeprecationWarning: The default of the `iid` parameter will change from True to False in version 0.22 and will be removed in 0.24. This will change numeric results when test-set sizes are unequal.\n",
      "  DeprecationWarning)\n"
     ]
    }
   ],
   "source": [
    "# Dict to save best parameters\n",
    "BEST_PARAMS = {\"Remove\":{},\"Mean\":{},\"Median\":{}}\n",
    "\n",
    "# defining parameter range \n",
    "param_grid = [{\"C\": [0.1, 1, 10, 100, 1000],  \n",
    "              \"gamma\": [1, 0.1, 0.01, 0.001, 0.0001],\n",
    "              \"kernel\": [\"rbf\", \"sigmoid\"]},\n",
    "              {\"C\": [0.1, 1, 10, 100, 1000],\n",
    "              \"kernel\": [\"linear\"]},\n",
    "             {\"C\": [0.1, 1, 10, 100, 1000],  \n",
    "              \"gamma\": [1, 0.1, 0.01, 0.001, 0.0001],\n",
    "              \"kernel\": [\"poly\"],\n",
    "              \"degree\" : [1,2,3,4,5,6,7,8,9,10]}]\n",
    "# tol and max_iter because It's taking too long to train\n",
    "grid = GridSearchCV(svm.SVC(max_iter=1000000), param_grid, refit = True, verbose=3, n_jobs=-1, cv=5)\n",
    "grid.fit(X_train_remove, y_train_remove) \n",
    "print(\"The best parameters are : {} with removed features and the score is {}\".format(grid.best_params_, grid.best_score_))\n",
    "score = round((grid.best_score_*100),2)\n",
    "SCORES[\"Remove\"][\"SVM_BestParam\"] = score\n",
    "BEST_PARAMS[\"Remove\"][\"SVM\"] = grid.best_params_"
   ]
  },
  {
   "cell_type": "code",
   "execution_count": 34,
   "metadata": {},
   "outputs": [
    {
     "name": "stderr",
     "output_type": "stream",
     "text": [
      "[Parallel(n_jobs=-1)]: Using backend LokyBackend with 4 concurrent workers.\n"
     ]
    },
    {
     "name": "stdout",
     "output_type": "stream",
     "text": [
      "Fitting 5 folds for each of 305 candidates, totalling 1525 fits\n"
     ]
    },
    {
     "name": "stderr",
     "output_type": "stream",
     "text": [
      "[Parallel(n_jobs=-1)]: Done 200 tasks      | elapsed:    1.5s\n",
      "[Parallel(n_jobs=-1)]: Done 539 tasks      | elapsed:  1.5min\n",
      "[Parallel(n_jobs=-1)]: Done 707 tasks      | elapsed:  2.6min\n",
      "[Parallel(n_jobs=-1)]: Done 939 tasks      | elapsed:  4.1min\n",
      "[Parallel(n_jobs=-1)]: Done 1227 tasks      | elapsed:  6.0min\n",
      "[Parallel(n_jobs=-1)]: Done 1525 out of 1525 | elapsed:  8.3min finished\n",
      "C:\\ProgramData\\Anaconda3\\lib\\site-packages\\sklearn\\model_selection\\_search.py:841: DeprecationWarning: The default of the `iid` parameter will change from True to False in version 0.22 and will be removed in 0.24. This will change numeric results when test-set sizes are unequal.\n",
      "  DeprecationWarning)\n"
     ]
    },
    {
     "name": "stdout",
     "output_type": "stream",
     "text": [
      "The best parameters are : {'C': 100, 'degree': 1, 'gamma': 0.01, 'kernel': 'poly'} with mean features and the score is 0.8300561797752809\n"
     ]
    },
    {
     "name": "stderr",
     "output_type": "stream",
     "text": [
      "C:\\ProgramData\\Anaconda3\\lib\\site-packages\\sklearn\\svm\\base.py:244: ConvergenceWarning: Solver terminated early (max_iter=1000000).  Consider pre-processing your data with StandardScaler or MinMaxScaler.\n",
      "  % self.max_iter, ConvergenceWarning)\n"
     ]
    }
   ],
   "source": [
    "# defining parameter range \n",
    "param_grid = [{\"C\": [0.1, 1, 10, 100, 1000],  \n",
    "              \"gamma\": [1, 0.1, 0.01, 0.001, 0.0001],\n",
    "              \"kernel\": [\"rbf\", \"sigmoid\"]},\n",
    "              {\"C\": [0.1, 1, 10, 100, 1000],\n",
    "              \"kernel\": [\"linear\"]},\n",
    "             {\"C\": [0.1, 1, 10, 100, 1000],  \n",
    "              \"gamma\": [1, 0.1, 0.01, 0.001, 0.0001],\n",
    "              \"kernel\": [\"poly\"],\n",
    "              \"degree\" : [1,2,3,4,5,6,7,8,9,10]}]\n",
    "# tol and max_iter because It's taking too long to train\n",
    "grid = GridSearchCV(svm.SVC(max_iter=1000000), param_grid, refit = True, verbose=3, n_jobs=-1, cv=5)\n",
    "grid.fit(X_train_mean, y_train_mean)\n",
    "print(\"The best parameters are : {} with mean features and the score is {}\".format(grid.best_params_, grid.best_score_))\n",
    "score = round((grid.best_score_*100),2)\n",
    "SCORES[\"Mean\"][\"SVM_BestParam\"] = score\n",
    "BEST_PARAMS[\"Mean\"][\"SVM\"] = grid.best_params_"
   ]
  },
  {
   "cell_type": "code",
   "execution_count": 35,
   "metadata": {},
   "outputs": [
    {
     "name": "stderr",
     "output_type": "stream",
     "text": [
      "[Parallel(n_jobs=-1)]: Using backend LokyBackend with 4 concurrent workers.\n"
     ]
    },
    {
     "name": "stdout",
     "output_type": "stream",
     "text": [
      "Fitting 5 folds for each of 305 candidates, totalling 1525 fits\n"
     ]
    },
    {
     "name": "stderr",
     "output_type": "stream",
     "text": [
      "[Parallel(n_jobs=-1)]: Done 136 tasks      | elapsed:    0.9s\n",
      "[Parallel(n_jobs=-1)]: Done 435 tasks      | elapsed:  1.0min\n",
      "[Parallel(n_jobs=-1)]: Done 603 tasks      | elapsed:  1.9min\n",
      "[Parallel(n_jobs=-1)]: Done 835 tasks      | elapsed:  3.3min\n",
      "[Parallel(n_jobs=-1)]: Done 1123 tasks      | elapsed:  5.2min\n",
      "[Parallel(n_jobs=-1)]: Done 1475 tasks      | elapsed:  8.0min\n",
      "[Parallel(n_jobs=-1)]: Done 1525 out of 1525 | elapsed:  8.3min finished\n",
      "C:\\ProgramData\\Anaconda3\\lib\\site-packages\\sklearn\\model_selection\\_search.py:841: DeprecationWarning: The default of the `iid` parameter will change from True to False in version 0.22 and will be removed in 0.24. This will change numeric results when test-set sizes are unequal.\n",
      "  DeprecationWarning)\n"
     ]
    },
    {
     "name": "stdout",
     "output_type": "stream",
     "text": [
      "The best parameters are : {'C': 10, 'degree': 1, 'gamma': 0.1, 'kernel': 'poly'} with median featuresand the score is 0.8286516853932584\n"
     ]
    },
    {
     "name": "stderr",
     "output_type": "stream",
     "text": [
      "C:\\ProgramData\\Anaconda3\\lib\\site-packages\\sklearn\\svm\\base.py:244: ConvergenceWarning: Solver terminated early (max_iter=1000000).  Consider pre-processing your data with StandardScaler or MinMaxScaler.\n",
      "  % self.max_iter, ConvergenceWarning)\n"
     ]
    }
   ],
   "source": [
    "# defining parameter range \n",
    "param_grid = [{\"C\": [0.1, 1, 10, 100, 1000],  \n",
    "              \"gamma\": [1, 0.1, 0.01, 0.001, 0.0001],\n",
    "              \"kernel\": [\"rbf\", \"sigmoid\"]},\n",
    "              {\"C\": [0.1, 1, 10, 100, 1000],\n",
    "              \"kernel\": [\"linear\"]},\n",
    "             {\"C\": [0.1, 1, 10, 100, 1000],  \n",
    "              \"gamma\": [1, 0.1, 0.01, 0.001, 0.0001],\n",
    "              \"kernel\": [\"poly\"],\n",
    "              \"degree\" : [1,2,3,4,5,6,7,8,9,10]}]\n",
    "# tol and max_iter because It's taking too long to train\n",
    "grid = GridSearchCV(svm.SVC(max_iter=1000000), param_grid, refit = True, verbose=3, n_jobs=-1, cv=5)\n",
    "grid.fit(X_train_median, y_train_median)\n",
    "print(\"The best parameters are : {} with median featuresand the score is {}\".format(grid.best_params_, grid.best_score_))\n",
    "score = round((grid.best_score_*100),2)\n",
    "SCORES[\"Median\"][\"SVM_BestParam\"] = score\n",
    "BEST_PARAMS[\"Median\"][\"SVM\"] = grid.best_params_"
   ]
  },
  {
   "cell_type": "code",
   "execution_count": 36,
   "metadata": {},
   "outputs": [
    {
     "data": {
      "text/plain": [
       "{'Remove': {'SVM': 81.01, 'SVM_BestParam': 83.15},\n",
       " 'Mean': {'SVM': 80.45, 'SVM_BestParam': 83.01},\n",
       " 'Median': {'SVM': 80.45, 'SVM_BestParam': 82.87}}"
      ]
     },
     "execution_count": 36,
     "metadata": {},
     "output_type": "execute_result"
    }
   ],
   "source": [
    "SCORES"
   ]
  },
  {
   "cell_type": "code",
   "execution_count": 37,
   "metadata": {},
   "outputs": [
    {
     "data": {
      "text/plain": [
       "{'Remove': {'SVM': {'C': 1, 'gamma': 0.1, 'kernel': 'rbf'}},\n",
       " 'Mean': {'SVM': {'C': 100, 'degree': 1, 'gamma': 0.01, 'kernel': 'poly'}},\n",
       " 'Median': {'SVM': {'C': 10, 'degree': 1, 'gamma': 0.1, 'kernel': 'poly'}}}"
      ]
     },
     "execution_count": 37,
     "metadata": {},
     "output_type": "execute_result"
    }
   ],
   "source": [
    "BEST_PARAMS"
   ]
  },
  {
   "cell_type": "markdown",
   "metadata": {},
   "source": [
    "As we can see with the best scores we almost gain 2% with optimized hyperparameters.\n",
    "\n",
    "If we plot them :"
   ]
  },
  {
   "cell_type": "code",
   "execution_count": 38,
   "metadata": {},
   "outputs": [
    {
     "data": {
      "image/png": "[encoded data removed]",
      "text/plain": [
       "<Figure size 432x288 with 1 Axes>"
      ]
     },
     "metadata": {
      "needs_background": "light"
     },
     "output_type": "display_data"
    }
   ],
   "source": [
    "pd.DataFrame(SCORES).plot(kind='bar')\n",
    "plt.ylim(0, 120)\n",
    "plt.ylabel('Precision')\n",
    "plt.show()"
   ]
  },
  {
   "cell_type": "markdown",
   "metadata": {},
   "source": [
    "## With the KNeighborsClassifier [see documentation](https://scikit-learn.org/stable/modules/generated/sklearn.neighbors.KNeighborsClassifier.html)"
   ]
  },
  {
   "cell_type": "code",
   "execution_count": 39,
   "metadata": {},
   "outputs": [
    {
     "name": "stdout",
     "output_type": "stream",
     "text": [
      "Train/Test/Record for df_train_remove\n",
      "[[99 11]\n",
      " [21 48]]\n",
      "Performace is : 82.12% for KNN_3_Remove\n",
      "Train/Test/Record for df_train_mean\n",
      "[[95 15]\n",
      " [36 33]]\n",
      "Performace is : 71.51% for KNN_3_Mean\n",
      "Train/Test/Record for df_train_median\n",
      "[[94 16]\n",
      " [34 35]]\n",
      "Performace is : 72.07% for KNN_3_Median\n"
     ]
    }
   ],
   "source": [
    "knn = KNeighborsClassifier(n_neighbors=3)\n",
    "print(\"Train/Test/Record for df_train_remove\")\n",
    "knn.fit(X_train_remove, y_train_remove)\n",
    "y_pred_remove = knn.predict(X_test_remove)\n",
    "print(confusion_matrix(y_test_remove, y_pred_remove))\n",
    "score = (((y_pred_remove == y_test_remove).sum())/y_test_remove.shape[0])\n",
    "score = round(score*100,2)\n",
    "SCORES[\"Remove\"][\"KNN_3\"] = score\n",
    "print(\"Performace is : {}% for KNN_3_Remove\".format(score))\n",
    "print(\"Train/Test/Record for df_train_mean\")\n",
    "knn.fit(X_train_mean, y_train_mean)\n",
    "y_pred_mean = knn.predict(X_test_mean)\n",
    "print(confusion_matrix(y_test_mean, y_pred_mean))\n",
    "score = (((y_pred_mean == y_test_mean).sum())/y_test_mean.shape[0])\n",
    "score = round(score*100,2)\n",
    "SCORES[\"Mean\"][\"KNN_3\"] = score\n",
    "print(\"Performace is : {}% for KNN_3_Mean\".format(score))\n",
    "print(\"Train/Test/Record for df_train_median\")\n",
    "knn.fit(X_train_median, y_train_median)\n",
    "y_pred_median = knn.predict(X_test_median)\n",
    "print(confusion_matrix(y_test_median, y_pred_median))\n",
    "score = (((y_pred_median == y_test_median).sum())/y_test_median.shape[0])\n",
    "score = round(score*100,2)\n",
    "SCORES[\"Median\"][\"KNN_3\"] = score\n",
    "print(\"Performace is : {}% for KNN_3_Median\".format(score))"
   ]
  },
  {
   "cell_type": "code",
   "execution_count": 35,
   "metadata": {},
   "outputs": [
    {
     "data": {
      "text/plain": [
       "{'Remove': {'SVM': 81.01, 'SVM_BestParam': 83.15, 'KNN_3': 82.12},\n",
       " 'Mean': {'SVM': 80.45, 'SVM_BestParam': 83.01, 'KNN_3': 71.51},\n",
       " 'Median': {'SVM': 80.45, 'SVM_BestParam': 82.87, 'KNN_3': 72.07}}"
      ]
     },
     "execution_count": 35,
     "metadata": {},
     "output_type": "execute_result"
    }
   ],
   "source": [
    "SCORES"
   ]
  },
  {
   "cell_type": "markdown",
   "metadata": {},
   "source": [
    "## Trying differents hyperparameters (again)"
   ]
  },
  {
   "cell_type": "code",
   "execution_count": 43,
   "metadata": {},
   "outputs": [
    {
     "name": "stdout",
     "output_type": "stream",
     "text": [
      "Fitting 5 folds for each of 8800 candidates, totalling 44000 fits\n"
     ]
    },
    {
     "name": "stderr",
     "output_type": "stream",
     "text": [
      "[Parallel(n_jobs=-1)]: Using backend LokyBackend with 4 concurrent workers.\n",
      "[Parallel(n_jobs=-1)]: Done 216 tasks      | elapsed:    1.3s\n",
      "[Parallel(n_jobs=-1)]: Done 1944 tasks      | elapsed:   15.0s\n",
      "[Parallel(n_jobs=-1)]: Done 4824 tasks      | elapsed:   37.0s\n",
      "[Parallel(n_jobs=-1)]: Done 7443 tasks      | elapsed:  1.1min\n",
      "[Parallel(n_jobs=-1)]: Done 10035 tasks      | elapsed:  1.4min\n",
      "[Parallel(n_jobs=-1)]: Done 13203 tasks      | elapsed:  1.8min\n",
      "[Parallel(n_jobs=-1)]: Done 16947 tasks      | elapsed:  2.3min\n",
      "[Parallel(n_jobs=-1)]: Done 21267 tasks      | elapsed:  2.8min\n",
      "[Parallel(n_jobs=-1)]: Done 26163 tasks      | elapsed:  3.7min\n",
      "[Parallel(n_jobs=-1)]: Done 31635 tasks      | elapsed:  4.7min\n",
      "[Parallel(n_jobs=-1)]: Done 37683 tasks      | elapsed:  5.5min\n",
      "[Parallel(n_jobs=-1)]: Done 44000 out of 44000 | elapsed:  6.3min finished\n",
      "C:\\ProgramData\\Anaconda3\\lib\\site-packages\\sklearn\\model_selection\\_search.py:841: DeprecationWarning: The default of the `iid` parameter will change from True to False in version 0.22 and will be removed in 0.24. This will change numeric results when test-set sizes are unequal.\n",
      "  DeprecationWarning)\n",
      "[Parallel(n_jobs=-1)]: Using backend LokyBackend with 4 concurrent workers.\n"
     ]
    },
    {
     "name": "stdout",
     "output_type": "stream",
     "text": [
      "The best parameters are : {'algorithm': 'ball_tree', 'leaf_size': 20, 'n_neighbors': 6, 'p': 1, 'weights': 'uniform'} with remove features and the score is 0.8300561797752809\n",
      "Fitting 5 folds for each of 8800 candidates, totalling 44000 fits\n"
     ]
    },
    {
     "name": "stderr",
     "output_type": "stream",
     "text": [
      "[Parallel(n_jobs=-1)]: Done 168 tasks      | elapsed:    0.8s\n",
      "[Parallel(n_jobs=-1)]: Done 1128 tasks      | elapsed:    6.8s\n",
      "[Parallel(n_jobs=-1)]: Done 2728 tasks      | elapsed:   18.6s\n",
      "[Parallel(n_jobs=-1)]: Done 4968 tasks      | elapsed:   35.0s\n",
      "[Parallel(n_jobs=-1)]: Done 7848 tasks      | elapsed:   58.1s\n",
      "[Parallel(n_jobs=-1)]: Done 11368 tasks      | elapsed:  1.4min\n",
      "[Parallel(n_jobs=-1)]: Done 15528 tasks      | elapsed:  1.8min\n",
      "[Parallel(n_jobs=-1)]: Done 20328 tasks      | elapsed:  2.4min\n",
      "[Parallel(n_jobs=-1)]: Done 25768 tasks      | elapsed:  3.1min\n",
      "[Parallel(n_jobs=-1)]: Done 31848 tasks      | elapsed:  4.0min\n",
      "[Parallel(n_jobs=-1)]: Done 38568 tasks      | elapsed:  4.7min\n",
      "[Parallel(n_jobs=-1)]: Done 44000 out of 44000 | elapsed:  5.3min finished\n",
      "C:\\ProgramData\\Anaconda3\\lib\\site-packages\\sklearn\\model_selection\\_search.py:841: DeprecationWarning: The default of the `iid` parameter will change from True to False in version 0.22 and will be removed in 0.24. This will change numeric results when test-set sizes are unequal.\n",
      "  DeprecationWarning)\n"
     ]
    },
    {
     "name": "stdout",
     "output_type": "stream",
     "text": [
      "The best parameters are : {'algorithm': 'ball_tree', 'leaf_size': 3, 'n_neighbors': 4, 'p': 1, 'weights': 'uniform'} with mean features and the score is 0.7710674157303371\n",
      "Fitting 5 folds for each of 8800 candidates, totalling 44000 fits\n"
     ]
    },
    {
     "name": "stderr",
     "output_type": "stream",
     "text": [
      "[Parallel(n_jobs=-1)]: Using backend LokyBackend with 4 concurrent workers.\n",
      "[Parallel(n_jobs=-1)]: Done 168 tasks      | elapsed:    0.8s\n",
      "[Parallel(n_jobs=-1)]: Done 1128 tasks      | elapsed:    6.4s\n",
      "[Parallel(n_jobs=-1)]: Done 2728 tasks      | elapsed:   17.3s\n",
      "[Parallel(n_jobs=-1)]: Done 4968 tasks      | elapsed:   33.4s\n",
      "[Parallel(n_jobs=-1)]: Done 7848 tasks      | elapsed:   56.9s\n",
      "[Parallel(n_jobs=-1)]: Done 11368 tasks      | elapsed:  1.3min\n",
      "[Parallel(n_jobs=-1)]: Done 15528 tasks      | elapsed:  1.8min\n",
      "[Parallel(n_jobs=-1)]: Done 20328 tasks      | elapsed:  2.3min\n",
      "[Parallel(n_jobs=-1)]: Done 25768 tasks      | elapsed:  3.1min\n",
      "[Parallel(n_jobs=-1)]: Done 31848 tasks      | elapsed:  4.0min\n",
      "[Parallel(n_jobs=-1)]: Done 38568 tasks      | elapsed:  4.8min\n"
     ]
    },
    {
     "name": "stdout",
     "output_type": "stream",
     "text": [
      "The best parameters are : {'algorithm': 'brute', 'n_neighbors': 4, 'p': 1, 'weights': 'uniform'} with mean features and the score is 0.773876404494382\n"
     ]
    },
    {
     "name": "stderr",
     "output_type": "stream",
     "text": [
      "[Parallel(n_jobs=-1)]: Done 44000 out of 44000 | elapsed:  5.4min finished\n",
      "C:\\ProgramData\\Anaconda3\\lib\\site-packages\\sklearn\\model_selection\\_search.py:841: DeprecationWarning: The default of the `iid` parameter will change from True to False in version 0.22 and will be removed in 0.24. This will change numeric results when test-set sizes are unequal.\n",
      "  DeprecationWarning)\n"
     ]
    }
   ],
   "source": [
    "# defining parameter range \n",
    "param_grid = [{\"n_neighbors\": range(1,101),  \n",
    "              \"weights\": [\"uniform\", \"distance\"],\n",
    "              \"algorithm\": [\"auto\", \"brute\"],\n",
    "              \"p\" : [1,2]},\n",
    "             {\"n_neighbors\": range(1,101),  \n",
    "              \"weights\": [\"uniform\", \"distance\"],\n",
    "              \"algorithm\": [\"ball_tree\", \"kd_tree\"],\n",
    "              \"p\" : [1,2],\n",
    "             \"leaf_size\": [1,2,3,4,5,10,15,20,25,30]}]\n",
    "\n",
    "# With Remove features\n",
    "grid = GridSearchCV(KNeighborsClassifier(), param_grid, refit = True, verbose=3, n_jobs=-1, cv=5)\n",
    "grid.fit(X_train_remove, y_train_remove) \n",
    "print(\"The best parameters are : {} with remove features and the score is {}\".format(grid.best_params_, grid.best_score_))\n",
    "score = round((grid.best_score_*100),2)\n",
    "SCORES[\"Remove\"][\"KNN_BestParam\"] = score\n",
    "BEST_PARAMS[\"Remove\"][\"KNN\"] = grid.best_params_\n",
    "\n",
    "# With Mean features\n",
    "grid = GridSearchCV(KNeighborsClassifier(), param_grid, refit = True, verbose=3, n_jobs=-1, cv=5)\n",
    "grid.fit(X_train_mean, y_train_mean)\n",
    "print(\"The best parameters are : {} with mean features and the score is {}\".format(grid.best_params_, grid.best_score_))\n",
    "score = round((grid.best_score_*100),2)\n",
    "SCORES[\"Mean\"][\"KNN_BestParam\"] = score\n",
    "BEST_PARAMS[\"Mean\"][\"KNN\"] = grid.best_params_\n",
    "\n",
    "# With Median features\n",
    "grid = GridSearchCV(KNeighborsClassifier(), param_grid, refit = True, verbose=3, n_jobs=-1, cv=5)\n",
    "grid.fit(X_train_median, y_train_median)\n",
    "print(\"The best parameters are : {} with mean features and the score is {}\".format(grid.best_params_, grid.best_score_))\n",
    "score = round((grid.best_score_*100),2)\n",
    "SCORES[\"Median\"][\"KNN_BestParam\"] = score\n",
    "BEST_PARAMS[\"Median\"][\"KNN\"] = grid.best_params_"
   ]
  },
  {
   "cell_type": "markdown",
   "metadata": {},
   "source": [
    "If we plot the results"
   ]
  },
  {
   "cell_type": "code",
   "execution_count": 44,
   "metadata": {},
   "outputs": [
    {
     "data": {
      "image/png": "[encoded data removed]",
      "text/plain": [
       "<Figure size 432x288 with 1 Axes>"
      ]
     },
     "metadata": {
      "needs_background": "light"
     },
     "output_type": "display_data"
    }
   ],
   "source": [
    "pd.DataFrame(SCORES).plot(kind='bar')\n",
    "plt.ylim(0, 120)\n",
    "plt.ylabel('Precision')\n",
    "plt.show()"
   ]
  },
  {
   "cell_type": "code",
   "execution_count": 46,
   "metadata": {},
   "outputs": [
    {
     "data": {
      "text/plain": [
       "{'Remove': {'SVM': 81.01,\n",
       "  'SVM_BestParam': 83.15,\n",
       "  'KNN_3': 82.12,\n",
       "  'KNN_BestParam': 83.01},\n",
       " 'Mean': {'SVM': 80.45,\n",
       "  'SVM_BestParam': 83.01,\n",
       "  'KNN_3': 71.51,\n",
       "  'KNN_BestParam': 77.11},\n",
       " 'Median': {'SVM': 80.45,\n",
       "  'SVM_BestParam': 82.87,\n",
       "  'KNN_3': 72.07,\n",
       "  'KNN_BestParam': 77.39}}"
      ]
     },
     "execution_count": 46,
     "metadata": {},
     "output_type": "execute_result"
    }
   ],
   "source": [
    "SCORES"
   ]
  },
  {
   "cell_type": "markdown",
   "metadata": {},
   "source": [
    "<a id=\"conclusion\"></a>\n",
    "## Conclusion and trial over the test sample"
   ]
  },
  {
   "cell_type": "markdown",
   "metadata": {},
   "source": [
    "From all these tests we can conclude that the best model is the SVM with best_param with 83.15% and remove features.\n",
    "\n",
    "So if we do it with the real test data :"
   ]
  },
  {
   "cell_type": "code",
   "execution_count": 58,
   "metadata": {},
   "outputs": [],
   "source": [
    "X_train = df_train_remove.drop([\"Survived\"], axis=1)\n",
    "Y_train = df_train_remove[\"Survived\"]\n",
    "X_test = df_test_remove"
   ]
  },
  {
   "cell_type": "code",
   "execution_count": 68,
   "metadata": {},
   "outputs": [
    {
     "data": {
      "text/plain": [
       "{'C': 1, 'gamma': 0.1, 'kernel': 'rbf'}"
      ]
     },
     "execution_count": 68,
     "metadata": {},
     "output_type": "execute_result"
    }
   ],
   "source": [
    "BEST_PARAMS[\"Remove\"][\"SVM\"]"
   ]
  },
  {
   "cell_type": "code",
   "execution_count": 72,
   "metadata": {},
   "outputs": [],
   "source": [
    "start_time = time.time()\n",
    "clf = svm.SVC(C = 1, gamma = 0.1, kernel = 'rbf') #Use best params\n",
    "clf.fit(X_train, Y_train)\n",
    "y_pred = clf.predict(X_test)"
   ]
  },
  {
   "cell_type": "code",
   "execution_count": 79,
   "metadata": {
    "scrolled": true
   },
   "outputs": [
    {
     "data": {
      "text/html": [
       "<div>\n",
       "<style scoped>\n",
       "    .dataframe tbody tr th:only-of-type {\n",
       "        vertical-align: middle;\n",
       "    }\n",
       "\n",
       "    .dataframe tbody tr th {\n",
       "        vertical-align: top;\n",
       "    }\n",
       "\n",
       "    .dataframe thead th {\n",
       "        text-align: right;\n",
       "    }\n",
       "</style>\n",
       "<table border=\"1\" class=\"dataframe\">\n",
       "  <thead>\n",
       "    <tr style=\"text-align: right;\">\n",
       "      <th></th>\n",
       "      <th>PassengerId</th>\n",
       "      <th>Survived</th>\n",
       "    </tr>\n",
       "  </thead>\n",
       "  <tbody>\n",
       "    <tr>\n",
       "      <th>0</th>\n",
       "      <td>892</td>\n",
       "      <td>0</td>\n",
       "    </tr>\n",
       "    <tr>\n",
       "      <th>1</th>\n",
       "      <td>893</td>\n",
       "      <td>1</td>\n",
       "    </tr>\n",
       "    <tr>\n",
       "      <th>2</th>\n",
       "      <td>894</td>\n",
       "      <td>0</td>\n",
       "    </tr>\n",
       "    <tr>\n",
       "      <th>3</th>\n",
       "      <td>895</td>\n",
       "      <td>0</td>\n",
       "    </tr>\n",
       "    <tr>\n",
       "      <th>4</th>\n",
       "      <td>896</td>\n",
       "      <td>1</td>\n",
       "    </tr>\n",
       "  </tbody>\n",
       "</table>\n",
       "</div>"
      ],
      "text/plain": [
       "   PassengerId  Survived\n",
       "0          892         0\n",
       "1          893         1\n",
       "2          894         0\n",
       "3          895         0\n",
       "4          896         1"
      ]
     },
     "execution_count": 79,
     "metadata": {},
     "output_type": "execute_result"
    }
   ],
   "source": [
    "# Creation of the submission file :\n",
    "DF_Fin = pd.DataFrame(columns=[\"PassengerId\",\"Survived\"])\n",
    "DF_Fin[\"PassengerId\"] = df_test_org[\"PassengerId\"]\n",
    "DF_Fin[\"Survived\"] = y_pred\n",
    "\n",
    "DF_Fin.head()"
   ]
  },
  {
   "cell_type": "code",
   "execution_count": 80,
   "metadata": {},
   "outputs": [],
   "source": [
    "DF_Fin.to_csv(\"JPS_Titanic_submission.csv\", sep=\",\", index=False)"
   ]
  }
 ],
 "metadata": {
  "kernelspec": {
   "display_name": "Python 3",
   "language": "python",
   "name": "python3"
  },
  "language_info": {
   "codemirror_mode": {
    "name": "ipython",
    "version": 3
   },
   "file_extension": ".py",
   "mimetype": "text/x-python",
   "name": "python",
   "nbconvert_exporter": "python",
   "pygments_lexer": "ipython3",
   "version": "3.7.3"
  }
 },
 "nbformat": 4,
 "nbformat_minor": 2
}
